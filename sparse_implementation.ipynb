{
  "cells": [
    {
      "cell_type": "markdown",
      "metadata": {
        "id": "Iw8YX5kO88Ok"
      },
      "source": [
        "[![Open In Colab](https://colab.research.google.com/assets/colab-badge.svg)](https://colab.research.google.com/github/pinecone-io/examples/blob/master/locality_sensitive_hashing_traditional/sparse_implementation.ipynb) [![Open nbviewer](https://raw.githubusercontent.com/pinecone-io/examples/master/assets/nbviewer-shield.svg)](https://nbviewer.org/github/pinecone-io/examples/blob/master/locality_sensitive_hashing_traditional/sparse_implementation.ipynb)"
      ]
    },
    {
      "cell_type": "markdown",
      "metadata": {
        "id": "xrL7oMxD88Op"
      },
      "source": [
        "# Sparse Implementation of LSH\n",
        "\n",
        "Locality Sensitive Hashing (LSH) can be implemented for both sparse and dense vectors. In this notebook we will implement the algorithm for searching sparse vectors. We will be using *k-shingling* and *minhashing* to create our sparse vectors before applying them for search with LSH.\n",
        "\n",
        "We start by defining a few sentences."
      ]
    },
    {
      "cell_type": "code",
      "execution_count": 1,
      "metadata": {
        "id": "271ALGWU88Oq"
      },
      "outputs": [],
      "source": [
        "a = \"flying fish flew by the space station\"\n",
        "b = \"he will not allow you to bring your sticks of dynamite and pet armadillo along\"\n",
        "c = \"he figured a few sticks of dynamite were easier than a fishing pole to catch an armadillo\""
      ]
    },
    {
      "cell_type": "markdown",
      "metadata": {
        "id": "VmivK4wX88Or"
      },
      "source": [
        "The first thing we do is create our shingles, we will use k-shingles where `k == 2`. For longer text it is recommended to create shingles where it is unlikely to produce matching shingles between non-matching text, `k` values of `7` to `11` would likely produce this outcome."
      ]
    },
    {
      "cell_type": "code",
      "execution_count": 2,
      "metadata": {
        "colab": {
          "base_uri": "https://localhost:8080/"
        },
        "id": "yulwqZEZ88Os",
        "outputId": "042808be-8c50-439e-b7c4-496c9d1046fa"
      },
      "outputs": [
        {
          "name": "stdout",
          "output_type": "stream",
          "text": [
            "fl|ly|yi|in|ng|g | f|fi|is|sh|h | f|fl|le|ew|w | b|by|y | t|th|he|e | s|sp|pa|ac|ce|e | s|st|ta|at|ti|io|on|"
          ]
        }
      ],
      "source": [
        "k = 2\n",
        "for i in range(len(a) - k+1):\n",
        "    print(a[i: i+k], end='|')"
      ]
    },
    {
      "cell_type": "markdown",
      "metadata": {
        "id": "-PExwsKO88Ot"
      },
      "source": [
        "These are our shingles, however, we must remove duplicate values as we are producing a *set*. We do this using the Python type `set`. To apply shingling to each of our sentences we will define a `shingle` function:"
      ]
    },
    {
      "cell_type": "code",
      "execution_count": 3,
      "metadata": {
        "id": "zc0-_F7r88Ou"
      },
      "outputs": [],
      "source": [
        "def shingle(text: str, k: int):\n",
        "    shingle_set = []\n",
        "    for i in range(len(text) - k+1):\n",
        "        shingle_set.append(text[i:i+k])\n",
        "    return set(shingle_set)"
      ]
    },
    {
      "cell_type": "code",
      "execution_count": 4,
      "metadata": {
        "colab": {
          "base_uri": "https://localhost:8080/"
        },
        "id": "kylBCAud88Ou",
        "outputId": "33e72112-c597-488e-825d-b648047fcf68"
      },
      "outputs": [
        {
          "name": "stdout",
          "output_type": "stream",
          "text": [
            "{'pa', 'fi', 'is', 'e ', 'le', 'ti', 'st', 'sh', 'w ', 'ly', 'y ', 'ng', 'ew', 'in', 'th', 'yi', 'h ', ' s', ' f', 'sp', 'ce', 'ta', 'he', ' b', 'on', ' t', 'fl', 'g ', 'by', 'at', 'ac', 'io'}\n"
          ]
        }
      ],
      "source": [
        "a = shingle(a, k)\n",
        "b = shingle(b, k)\n",
        "c = shingle(c, k)\n",
        "print(a)"
      ]
    },
    {
      "cell_type": "markdown",
      "metadata": {
        "id": "5rpmXpib88Ov"
      },
      "source": [
        "Now that we have our three shingles we create a shingle vocabulary by create a `union` between all three sets."
      ]
    },
    {
      "cell_type": "code",
      "execution_count": 5,
      "metadata": {
        "colab": {
          "base_uri": "https://localhost:8080/"
        },
        "id": "zjPsZBe-88Ox",
        "outputId": "3aa99c19-a641-40ca-90a4-a8c9014e3b1b"
      },
      "outputs": [
        {
          "name": "stdout",
          "output_type": "stream",
          "text": [
            "['e ', 'nd', 'pe', 'ri', 'ou', 'it', 'hi', 'st', ' e', 'ly', 'ew', 'a ', 'ie', 'ks', 'et', 'yi', 'h ', 'sp', 'lo', ' b', 'ha', 'on', ' t', 'ma', 'gu', 'br', 'pa', 'an', 'te', 'tc', 'as', 'f ', 'le', 'ti', 'to', 'fe', 'ed', 'er', 'ol', 'u ', 'of', 'ca', 'na', ' f', 'ea', 'fl', 'n ', 'dy', 's ', 'ig', 'yn', 'wi', 'we', ' a', 'll', 'ur', 'yo', ' n', ' o', 'sh', 'w ', 't ', ' p', 'y ', 'ng', 'am', 'in', 'di', 'th', ' s', 'mi', 'ce', ' c', 'ta', 'ar', 'at', 'si', 'by', 'ow', 'io', 'fi', 'is', 'il', 'ck', 're', 'po', ' d', 'ad', 'r ', 'rm', 'o ', 'l ', 'al', 'ch', 'no', 'ic', 'he', ' w', 'g ', 'd ', 'ac', ' y', 'ot']\n"
          ]
        }
      ],
      "source": [
        "vocab = list(a.union(b).union(c))\n",
        "print(vocab)"
      ]
    },
    {
      "cell_type": "markdown",
      "metadata": {
        "id": "reNBHm3z88Oy"
      },
      "source": [
        "Using this vocab we can create one-hot encoded sparse vectors to represent our shingles."
      ]
    },
    {
      "cell_type": "code",
      "execution_count": 6,
      "metadata": {
        "colab": {
          "base_uri": "https://localhost:8080/"
        },
        "id": "C91zIWqr88Oy",
        "outputId": "df2249ed-61af-49f6-e840-9c3e246b5dff"
      },
      "outputs": [
        {
          "name": "stdout",
          "output_type": "stream",
          "text": [
            "[1, 0, 0, 0, 0, 0, 0, 1, 0, 1, 1, 0, 0, 0, 0, 1, 1, 1, 0, 1, 0, 1, 1, 0, 0, 0, 1, 0, 0, 0, 0, 0, 1, 1, 0, 0, 0, 0, 0, 0, 0, 0, 0, 1, 0, 1, 0, 0, 0, 0, 0, 0, 0, 0, 0, 0, 0, 0, 0, 1, 1, 0, 0, 1, 1, 0, 1, 0, 1, 1, 0, 1, 0, 1, 0, 1, 0, 1, 0, 1, 1, 1, 0, 0, 0, 0, 0, 0, 0, 0, 0, 0, 0, 0, 0, 0, 1, 0, 1, 0, 1, 0, 0]\n"
          ]
        }
      ],
      "source": [
        "a_1hot = [1 if x in a else 0 for x in vocab]\n",
        "b_1hot = [1 if x in b else 0 for x in vocab]\n",
        "c_1hot = [1 if x in c else 0 for x in vocab]\n",
        "print(a_1hot)"
      ]
    },
    {
      "cell_type": "markdown",
      "metadata": {
        "id": "dLMMol-k88O0"
      },
      "source": [
        "So we now have one-hot encoded sparse vectors we can move onto *minhashing*.\n",
        "\n",
        "## Minhashing\n",
        "\n",
        "Minhashing is the next step in our process. After creating our shingle sets we use minhashing to create *signatures* from those sets.\n",
        "\n",
        "To create our minhashing function we build several hash functions, each will randomly count from `1` to `len(vocab) + 1` - creating a *random* vector:"
      ]
    },
    {
      "cell_type": "code",
      "execution_count": 7,
      "metadata": {
        "colab": {
          "base_uri": "https://localhost:8080/"
        },
        "id": "7jVBvN5-88O1",
        "outputId": "d4a96ebb-f459-4415-baa7-46de8427cfda"
      },
      "outputs": [
        {
          "name": "stdout",
          "output_type": "stream",
          "text": [
            "[1, 2, 3, 4, 5, 6, 7, 8, 9, 10, 11, 12, 13, 14, 15, 16, 17, 18, 19, 20, 21, 22, 23, 24, 25, 26, 27, 28, 29, 30, 31, 32, 33, 34, 35, 36, 37, 38, 39, 40, 41, 42, 43, 44, 45, 46, 47, 48, 49, 50, 51, 52, 53, 54, 55, 56, 57, 58, 59, 60, 61, 62, 63, 64, 65, 66, 67, 68, 69, 70, 71, 72, 73, 74, 75, 76, 77, 78, 79, 80, 81, 82, 83, 84, 85, 86, 87, 88, 89, 90, 91, 92, 93, 94, 95, 96, 97, 98, 99, 100, 101, 102, 103]\n"
          ]
        }
      ],
      "source": [
        "hash_ex = list(range(1, len(vocab)+1))\n",
        "print(hash_ex)  # we haven't shuffled yet"
      ]
    },
    {
      "cell_type": "code",
      "execution_count": 8,
      "metadata": {
        "colab": {
          "base_uri": "https://localhost:8080/"
        },
        "id": "xeELXEjt88O1",
        "outputId": "e39b9cbb-4aaa-456c-9a4e-22c1638da113"
      },
      "outputs": [
        {
          "name": "stdout",
          "output_type": "stream",
          "text": [
            "[40, 56, 33, 70, 78, 65, 10, 34, 8, 21, 29, 53, 12, 20, 22, 28, 82, 95, 48, 73, 90, 94, 41, 1, 42, 15, 97, 35, 23, 37, 31, 18, 4, 11, 16, 49, 13, 3, 62, 54, 85, 71, 61, 52, 76, 84, 36, 9, 93, 17, 69, 45, 99, 50, 91, 102, 67, 79, 89, 44, 88, 30, 81, 58, 66, 2, 80, 19, 55, 39, 6, 46, 75, 92, 72, 25, 27, 96, 63, 38, 74, 100, 26, 60, 83, 24, 87, 98, 101, 64, 32, 14, 47, 86, 57, 7, 43, 59, 103, 68, 77, 51, 5]\n"
          ]
        }
      ],
      "source": [
        "from random import shuffle\n",
        "\n",
        "shuffle(hash_ex)\n",
        "print(hash_ex)"
      ]
    },
    {
      "cell_type": "markdown",
      "metadata": {
        "id": "nyyE9-XS88O2"
      },
      "source": [
        "We now have a randomized list of integers which we can use in creating our *hashed* signatures. What we do now is begin counting from `1` through to `len(vocab) + 1`, extracting the position of this number in our new `hash_ex` list, like so (for the first few integers):"
      ]
    },
    {
      "cell_type": "code",
      "execution_count": 9,
      "metadata": {
        "colab": {
          "base_uri": "https://localhost:8080/"
        },
        "id": "_GYlj7ev88O2",
        "outputId": "21caf6d5-a14a-40de-e893-c015213accc5"
      },
      "outputs": [
        {
          "name": "stdout",
          "output_type": "stream",
          "text": [
            "1 -> 23\n",
            "2 -> 65\n",
            "3 -> 37\n",
            "4 -> 32\n"
          ]
        }
      ],
      "source": [
        "for i in range(1, 5):\n",
        "    print(f\"{i} -> {hash_ex.index(i)}\")"
      ]
    },
    {
      "cell_type": "markdown",
      "metadata": {
        "id": "SJP6phX288O3"
      },
      "source": [
        "What we do with this is count up from `1` to `len(vocab) + 1` and find if the resultant `hash_ex.index(i)` position in our one-hot encoded vectors contains a positive value (`1`) in that position, like so:"
      ]
    },
    {
      "cell_type": "code",
      "execution_count": 10,
      "metadata": {
        "colab": {
          "base_uri": "https://localhost:8080/"
        },
        "id": "pFRt4pwW88O3",
        "outputId": "45cf7517-fbe8-465a-be5e-2886e89c9503"
      },
      "outputs": [
        {
          "name": "stdout",
          "output_type": "stream",
          "text": [
            "1 -> 23 -> 0\n",
            "2 -> 65 -> 0\n",
            "3 -> 37 -> 0\n",
            "4 -> 32 -> 1\n",
            "match!\n"
          ]
        }
      ],
      "source": [
        "for i in range(1, len(vocab)+1):\n",
        "    idx = hash_ex.index(i)\n",
        "    signature_val = a_1hot[idx]\n",
        "    print(f\"{i} -> {idx} -> {signature_val}\")\n",
        "    if signature_val == 1:\n",
        "        print('match!')\n",
        "        break"
      ]
    },
    {
      "cell_type": "markdown",
      "metadata": {
        "id": "jJrnM8i688O4"
      },
      "source": [
        "That gives us a first signature value of `98`. But this is just a single value, and it takes many values to create a signature (100 for example).\n",
        "\n",
        "So, how to we generate these other values? By using more hash functions! Let's generate a set of hash functions to create a signature vector of length `20`."
      ]
    },
    {
      "cell_type": "markdown",
      "metadata": {
        "id": "quxha0pb88O4"
      },
      "source": [
        "hash_funcs = []\n",
        "\n",
        "for _ in range(20)"
      ]
    },
    {
      "cell_type": "code",
      "execution_count": 11,
      "metadata": {
        "colab": {
          "base_uri": "https://localhost:8080/"
        },
        "id": "ncI84bIS88O5",
        "outputId": "abc5a22c-1e0e-462f-f078-6c9d26ce490a"
      },
      "outputs": [
        {
          "name": "stdout",
          "output_type": "stream",
          "text": [
            "hash function 1:\n",
            "[25, 46, 94, 48, 79, 36, 58, 34, 99, 61, 91, 8, 16, 93, 20, 97, 27, 53, 23, 4, 2, 59, 33, 83, 31, 81, 65, 71, 66, 100, 80, 74, 7, 70, 55, 10, 102, 26, 98, 85, 60, 39, 87, 90, 5, 73, 11, 88, 72, 21, 101, 54, 12, 1, 18, 49, 57, 13, 67, 78, 75, 51, 50, 64, 42, 19, 30, 29, 77, 9, 56, 38, 86, 41, 47, 3, 76, 96, 95, 37, 17, 22, 32, 43, 45, 15, 92, 63, 84, 103, 62, 68, 40, 28, 52, 82, 89, 24, 69, 44, 35, 6, 14]\n",
            "hash function 2:\n",
            "[101, 39, 40, 52, 56, 9, 92, 46, 51, 77, 3, 89, 59, 31, 87, 32, 76, 26, 71, 79, 93, 75, 64, 55, 73, 81, 1, 34, 83, 90, 80, 86, 74, 24, 84, 96, 58, 97, 2, 14, 13, 102, 67, 78, 54, 57, 95, 65, 49, 42, 25, 98, 47, 28, 27, 63, 17, 12, 11, 15, 60, 10, 53, 21, 99, 37, 8, 61, 4, 38, 35, 100, 70, 94, 5, 48, 33, 7, 62, 85, 103, 20, 30, 68, 16, 50, 88, 18, 43, 23, 44, 19, 29, 36, 72, 22, 45, 66, 69, 91, 6, 41, 82]\n",
            "hash function 3:\n",
            "[34, 43, 92, 68, 13, 50, 39, 56, 97, 31, 79, 102, 3, 85, 80, 36, 30, 47, 98, 15, 63, 101, 100, 37, 44, 27, 12, 46, 94, 99, 40, 4, 17, 35, 54, 23, 96, 58, 64, 14, 55, 6, 5, 24, 77, 59, 74, 22, 69, 61, 71, 42, 82, 10, 89, 83, 52, 51, 84, 20, 103, 16, 32, 91, 1, 62, 78, 25, 73, 2, 87, 41, 90, 48, 29, 86, 38, 7, 93, 65, 95, 45, 75, 60, 9, 67, 57, 8, 19, 81, 72, 33, 76, 53, 49, 28, 88, 18, 26, 21, 70, 11, 66]\n"
          ]
        }
      ],
      "source": [
        "hash_funcs = []\n",
        "\n",
        "for _ in range(20):\n",
        "    hash_ex = list(range(1, len(vocab)+1))\n",
        "    shuffle(hash_ex)\n",
        "    hash_funcs.append(hash_ex)\n",
        "\n",
        "for i in range(3):\n",
        "    print(f\"hash function {i+1}:\")\n",
        "    print(hash_funcs[i])"
      ]
    },
    {
      "cell_type": "markdown",
      "metadata": {
        "id": "g3_i4wfN88O5"
      },
      "source": [
        "We're only showing the first three hash functions here - we have *20* in total. To create our signatures we simply process each one-hot vector through each hash function, appending the output value to our signature for that vector."
      ]
    },
    {
      "cell_type": "code",
      "execution_count": 12,
      "metadata": {
        "colab": {
          "base_uri": "https://localhost:8080/"
        },
        "id": "VRPOenrE88O6",
        "outputId": "c9eb53ca-7921-48d4-bb27-41ea0735ba52"
      },
      "outputs": [
        {
          "name": "stdout",
          "output_type": "stream",
          "text": [
            "[75, 26, 64, 17, 81, 68, 17, 7, 64, 43, 69, 10, 10, 73, 73, 22, 15, 79, 0, 0]\n"
          ]
        }
      ],
      "source": [
        "signature = []\n",
        "\n",
        "for func in hash_funcs:\n",
        "    for i in range(1, len(vocab)+1):\n",
        "        idx = func.index(i)\n",
        "        signature_val = a_1hot[idx]\n",
        "        if signature_val == 1:\n",
        "            signature.append(idx)\n",
        "            break\n",
        "\n",
        "print(signature)"
      ]
    },
    {
      "cell_type": "markdown",
      "metadata": {
        "id": "uTkaVl2D88O6"
      },
      "source": [
        "And there we have our minhash produced signature for `a`. Let's clean up the code and formalize the process a little."
      ]
    },
    {
      "cell_type": "code",
      "execution_count": 13,
      "metadata": {
        "id": "ujij6kzk88O6"
      },
      "outputs": [],
      "source": [
        "def create_hash_func(size: int):\n",
        "    # function for creating the hash vector/function\n",
        "    hash_ex = list(range(1, size+1))\n",
        "    shuffle(hash_ex)\n",
        "    return hash_ex\n",
        "\n",
        "def build_minhash_func(vocab_size: int, nbits: int):\n",
        "    # function for building multiple minhash vectors\n",
        "    hashes = []\n",
        "    for _ in range(nbits):\n",
        "        hashes.append(create_hash_func(vocab_size))\n",
        "    return hashes\n",
        "\n",
        "# we create 20 minhash vectors\n",
        "minhash_func = build_minhash_func(len(vocab), 20)"
      ]
    },
    {
      "cell_type": "code",
      "execution_count": 14,
      "metadata": {
        "id": "GMr0ZgrK88O7"
      },
      "outputs": [],
      "source": [
        "def create_hash(vector: list):\n",
        "    # use this function for creating our signatures (eg the matching)\n",
        "    signature = []\n",
        "    for func in minhash_func:\n",
        "        for i in range(1, len(vocab)+1):\n",
        "            idx = func.index(i)\n",
        "            signature_val = vector[idx]\n",
        "            if signature_val == 1:\n",
        "                signature.append(idx)\n",
        "                break\n",
        "    return signature"
      ]
    },
    {
      "cell_type": "code",
      "execution_count": 15,
      "metadata": {
        "colab": {
          "base_uri": "https://localhost:8080/"
        },
        "id": "tk9s75wh88O7",
        "outputId": "ee729b69-ff3d-423e-d344-b2052512b348"
      },
      "outputs": [
        {
          "name": "stdout",
          "output_type": "stream",
          "text": [
            "[68, 80, 16, 77, 22, 17, 96, 43, 100, 68, 60, 9, 68, 22, 26, 10, 69, 45, 66, 80]\n",
            "[54, 101, 54, 91, 22, 55, 47, 25, 56, 56, 70, 91, 55, 39, 94, 1, 57, 65, 66, 101]\n",
            "[68, 84, 54, 85, 22, 55, 20, 43, 46, 49, 70, 85, 55, 46, 54, 44, 69, 65, 66, 90]\n"
          ]
        }
      ],
      "source": [
        "# now create signatures\n",
        "a_sig = create_hash(a_1hot)\n",
        "b_sig = create_hash(b_1hot)\n",
        "c_sig = create_hash(c_1hot)\n",
        "\n",
        "print(a_sig)\n",
        "print(b_sig)\n",
        "print(c_sig)"
      ]
    },
    {
      "cell_type": "markdown",
      "metadata": {
        "id": "89pynMXw88O8"
      },
      "source": [
        "We now have our three minhashed signatures! These signatures, despite being seemingly randomized, will on average have the very similar Jaccard similarity values as our previous sparse vectors. We have reduced the dimensionality of our vectors significantly - but maintained the same information!\n"
      ]
    },
    {
      "cell_type": "code",
      "execution_count": 16,
      "metadata": {
        "id": "aH_CbQX788O8"
      },
      "outputs": [],
      "source": [
        "def jaccard(a: set, b: set):\n",
        "    return len(a.intersection(b)) / len(a.union(b))"
      ]
    },
    {
      "cell_type": "markdown",
      "metadata": {
        "id": "LMrvFUk-88O8"
      },
      "source": [
        "**a** should have lower similarity with **b** and **c**:"
      ]
    },
    {
      "cell_type": "code",
      "execution_count": 17,
      "metadata": {
        "colab": {
          "base_uri": "https://localhost:8080/"
        },
        "id": "VM83yN7L88O8",
        "outputId": "c30c9592-15c2-46e6-adc5-db642f910fb0"
      },
      "outputs": [
        {
          "data": {
            "text/plain": [
              "(0.14814814814814814, 0.06896551724137931)"
            ]
          },
          "execution_count": 17,
          "metadata": {},
          "output_type": "execute_result"
        }
      ],
      "source": [
        "jaccard(a, b), jaccard(set(a_sig), set(b_sig))"
      ]
    },
    {
      "cell_type": "code",
      "execution_count": 18,
      "metadata": {
        "colab": {
          "base_uri": "https://localhost:8080/"
        },
        "id": "_x-R5U7s88O9",
        "outputId": "222cb0d0-14aa-4a3c-c16d-1f59f2c4f41f"
      },
      "outputs": [
        {
          "data": {
            "text/plain": [
              "(0.22093023255813954, 0.18518518518518517)"
            ]
          },
          "execution_count": 18,
          "metadata": {},
          "output_type": "execute_result"
        }
      ],
      "source": [
        "jaccard(a, c), jaccard(set(a_sig), set(c_sig))"
      ]
    },
    {
      "cell_type": "markdown",
      "metadata": {
        "id": "oob4DTh088O9"
      },
      "source": [
        "And **b** and **c** should share much greater simliarity:"
      ]
    },
    {
      "cell_type": "code",
      "execution_count": 19,
      "metadata": {
        "colab": {
          "base_uri": "https://localhost:8080/"
        },
        "id": "lRhcaAE-88O-",
        "outputId": "bdadcf80-60a6-4090-e429-fd803b4ec3ed"
      },
      "outputs": [
        {
          "data": {
            "text/plain": [
              "(0.45652173913043476, 0.24)"
            ]
          },
          "execution_count": 19,
          "metadata": {},
          "output_type": "execute_result"
        }
      ],
      "source": [
        "jaccard(b, c), jaccard(set(b_sig), set(c_sig))"
      ]
    },
    {
      "cell_type": "markdown",
      "metadata": {
        "id": "gCCEOOlO88O-"
      },
      "source": [
        "We're now ready to move onto the LSH process.\n",
        "\n",
        "# Locality Sensitive Hashing\n",
        "\n",
        "The approach we will be taking in this notebook is break our signature vector into multiple *bands*, creating several sub-vectors.\n",
        "\n",
        "We then hash each of these sub-vectors into a set of buckets, if we find that two sub-vectors from two signature vectors collide (end up in the same hash bucket) we take the two *full* signature vectors as *candidate pairs* - which we then compare in full with a similarity metric (like Jaccard similarity, cosine similarity, etc).\n",
        "\n",
        "There is no *'set'* way to hash our signature vectors, and in-fact the simplest approach is to check for equivalence across sub-vectors, which will be our approach.\n",
        "\n",
        "First, we must define the number of buckets `b` we would like to create. It's important to note that each bucket must contain an equal number of rows `r` - and so our signature length must be divisible by `b`."
      ]
    },
    {
      "cell_type": "code",
      "execution_count": 20,
      "metadata": {
        "id": "7P1BT1c688O-"
      },
      "outputs": [],
      "source": [
        "def split_vector(signature, b):\n",
        "    assert len(signature) % b == 0\n",
        "    r = int(len(signature) / b)\n",
        "    # code splitting signature in b parts\n",
        "    subvecs = []\n",
        "    for i in range(0, len(signature), r):\n",
        "        subvecs.append(signature[i : i+r])\n",
        "    return subvecs"
      ]
    },
    {
      "cell_type": "markdown",
      "metadata": {
        "id": "CSrpYi8688O_"
      },
      "source": [
        "We'll start by splitting into 10 bands, creating rows of `2` - on the small side to be used in a genuine LSH function but good for our example (we'll explore different `r` and `b` values soon).\n",
        "\n",
        "Let's start with our **b** and **c** vectors, which should *hopefully* match in *at least one* band."
      ]
    },
    {
      "cell_type": "code",
      "execution_count": 21,
      "metadata": {
        "colab": {
          "base_uri": "https://localhost:8080/"
        },
        "id": "3SWPJN_M88O_",
        "outputId": "f64579cb-cc45-4167-85fa-cd5d790b458a"
      },
      "outputs": [
        {
          "data": {
            "text/plain": [
              "[[54, 101],\n",
              " [54, 91],\n",
              " [22, 55],\n",
              " [47, 25],\n",
              " [56, 56],\n",
              " [70, 91],\n",
              " [55, 39],\n",
              " [94, 1],\n",
              " [57, 65],\n",
              " [66, 101]]"
            ]
          },
          "execution_count": 21,
          "metadata": {},
          "output_type": "execute_result"
        }
      ],
      "source": [
        "band_b = split_vector(b_sig, 10)\n",
        "band_b"
      ]
    },
    {
      "cell_type": "code",
      "execution_count": 22,
      "metadata": {
        "colab": {
          "base_uri": "https://localhost:8080/"
        },
        "id": "-xgWkyau88O_",
        "outputId": "b58c8d4d-cbc3-452f-d2da-cbe0f6832e84"
      },
      "outputs": [
        {
          "data": {
            "text/plain": [
              "[[68, 84],\n",
              " [54, 85],\n",
              " [22, 55],\n",
              " [20, 43],\n",
              " [46, 49],\n",
              " [70, 85],\n",
              " [55, 46],\n",
              " [54, 44],\n",
              " [69, 65],\n",
              " [66, 90]]"
            ]
          },
          "execution_count": 22,
          "metadata": {},
          "output_type": "execute_result"
        }
      ],
      "source": [
        "band_c = split_vector(c_sig, 10)\n",
        "band_c"
      ]
    },
    {
      "cell_type": "markdown",
      "metadata": {
        "id": "qNDslSoC88PA"
      },
      "source": [
        "Check if they match (we'll rewrite some of this into Numpy soon)."
      ]
    },
    {
      "cell_type": "code",
      "execution_count": 23,
      "metadata": {
        "colab": {
          "base_uri": "https://localhost:8080/"
        },
        "id": "d9FvLcNu88PA",
        "outputId": "fefe1d9f-f0a8-45d3-8db5-b0843f747008"
      },
      "outputs": [
        {
          "name": "stdout",
          "output_type": "stream",
          "text": [
            "Candidate pair: [22, 55] == [22, 55]\n"
          ]
        }
      ],
      "source": [
        "for b_rows, c_rows in zip(band_b, band_c):\n",
        "    if b_rows == c_rows:\n",
        "        print(f\"Candidate pair: {b_rows} == {c_rows}\")\n",
        "        # we only need one band to match\n",
        "        break"
      ]
    },
    {
      "cell_type": "markdown",
      "metadata": {
        "id": "4fDZhrzj88PA"
      },
      "source": [
        "And let's do the same for **a**."
      ]
    },
    {
      "cell_type": "code",
      "execution_count": 24,
      "metadata": {
        "id": "BcuMogOs88PA"
      },
      "outputs": [],
      "source": [
        "band_a = split_vector(a_sig, 10)"
      ]
    },
    {
      "cell_type": "code",
      "execution_count": 25,
      "metadata": {
        "id": "xGxTswFr88PB"
      },
      "outputs": [],
      "source": [
        "for a_rows, b_rows in zip(band_a, band_b):\n",
        "    if a_rows == b_rows:\n",
        "        print(f\"Candidate pair: {a_rows} == {b_rows}\")\n",
        "        # we only need one band to match\n",
        "        break"
      ]
    },
    {
      "cell_type": "code",
      "execution_count": 26,
      "metadata": {
        "colab": {
          "base_uri": "https://localhost:8080/"
        },
        "id": "ixc-wzym88PB",
        "outputId": "c0114076-5f54-4736-814c-1f6e83a46fba"
      },
      "outputs": [
        {
          "name": "stdout",
          "output_type": "stream",
          "text": [
            "not matched\n",
            "not matched\n",
            "not matched\n",
            "not matched\n",
            "not matched\n",
            "not matched\n",
            "not matched\n",
            "not matched\n",
            "not matched\n",
            "not matched\n"
          ]
        }
      ],
      "source": [
        "for a_rows, c_rows in zip(band_a, band_c):\n",
        "    if a_rows == c_rows:\n",
        "        print(f\"Candidate pair: {b_rows} == {c_rows}\")\n",
        "        # we only need one band to match\n",
        "        print(\"matched!\")\n",
        "        break\n",
        "    print(\"not matched\")"
      ]
    },
    {
      "cell_type": "markdown",
      "metadata": {
        "id": "cfVXGgCy88PB"
      },
      "source": [
        "Okay great, so even with this very simple implementation - we manage to identify sentences **b** and **c** and candidate pairs, and identify **a** as a non-candidate."
      ]
    },
    {
      "cell_type": "markdown",
      "metadata": {
        "id": "IaPFDpr688PB"
      },
      "source": [
        "## Tuning LSH\n",
        "\n",
        "We can visualize the probability of returning a candidate pair vs the similarity of the pair for different values of `r` and `b` (rows and bands respectively) like so:"
      ]
    },
    {
      "cell_type": "code",
      "execution_count": 27,
      "metadata": {
        "id": "PNqHMUg888PC"
      },
      "outputs": [],
      "source": [
        "def probability(s, r, b):\n",
        "    # s: similarity\n",
        "    # r: rows (per band)\n",
        "    # b: number of bands\n",
        "    return 1 - (1 - s**r)**b"
      ]
    },
    {
      "cell_type": "code",
      "execution_count": 28,
      "metadata": {
        "id": "rVAfoMNp88PC"
      },
      "outputs": [],
      "source": [
        "import numpy as np\n",
        "import pandas as pd\n",
        "import matplotlib.pyplot as plt\n",
        "import seaborn as sns"
      ]
    },
    {
      "cell_type": "code",
      "execution_count": 31,
      "metadata": {
        "id": "7ZUAaaPy88PD"
      },
      "outputs": [
        {
          "ename": "AttributeError",
          "evalue": "'DataFrame' object has no attribute 'append'",
          "output_type": "error",
          "traceback": [
            "\u001b[0;31m---------------------------------------------------------------------------\u001b[0m",
            "\u001b[0;31mAttributeError\u001b[0m                            Traceback (most recent call last)",
            "\u001b[0;32m/tmp/ipykernel_11877/3707606868.py\u001b[0m in \u001b[0;36m?\u001b[0;34m()\u001b[0m\n\u001b[1;32m      8\u001b[0m     \u001b[0mtotal\u001b[0m \u001b[0;34m=\u001b[0m \u001b[0;36m100\u001b[0m\u001b[0;34m\u001b[0m\u001b[0;34m\u001b[0m\u001b[0m\n\u001b[1;32m      9\u001b[0m     \u001b[0;32mfor\u001b[0m \u001b[0mb\u001b[0m \u001b[0;32min\u001b[0m \u001b[0;34m[\u001b[0m\u001b[0;36m100\u001b[0m\u001b[0;34m,\u001b[0m \u001b[0;36m50\u001b[0m\u001b[0;34m,\u001b[0m \u001b[0;36m25\u001b[0m\u001b[0;34m,\u001b[0m \u001b[0;36m20\u001b[0m\u001b[0;34m,\u001b[0m \u001b[0;36m10\u001b[0m\u001b[0;34m,\u001b[0m \u001b[0;36m5\u001b[0m\u001b[0;34m,\u001b[0m \u001b[0;36m4\u001b[0m\u001b[0;34m,\u001b[0m \u001b[0;36m2\u001b[0m\u001b[0;34m,\u001b[0m \u001b[0;36m1\u001b[0m\u001b[0;34m]\u001b[0m\u001b[0;34m:\u001b[0m\u001b[0;34m\u001b[0m\u001b[0;34m\u001b[0m\u001b[0m\n\u001b[1;32m     10\u001b[0m         \u001b[0mr\u001b[0m \u001b[0;34m=\u001b[0m \u001b[0mint\u001b[0m\u001b[0;34m(\u001b[0m\u001b[0mtotal\u001b[0m\u001b[0;34m/\u001b[0m\u001b[0mb\u001b[0m\u001b[0;34m)\u001b[0m\u001b[0;34m\u001b[0m\u001b[0;34m\u001b[0m\u001b[0m\n\u001b[1;32m     11\u001b[0m         \u001b[0mP\u001b[0m \u001b[0;34m=\u001b[0m \u001b[0mprobability\u001b[0m\u001b[0;34m(\u001b[0m\u001b[0ms\u001b[0m\u001b[0;34m,\u001b[0m \u001b[0mr\u001b[0m\u001b[0;34m,\u001b[0m \u001b[0mb\u001b[0m\u001b[0;34m)\u001b[0m\u001b[0;34m\u001b[0m\u001b[0;34m\u001b[0m\u001b[0m\n\u001b[0;32m---> 12\u001b[0;31m         results = results.append({\n\u001b[0m\u001b[1;32m     13\u001b[0m             \u001b[0;34m's'\u001b[0m\u001b[0;34m:\u001b[0m \u001b[0ms\u001b[0m\u001b[0;34m,\u001b[0m\u001b[0;34m\u001b[0m\u001b[0;34m\u001b[0m\u001b[0m\n\u001b[1;32m     14\u001b[0m             \u001b[0;34m'P'\u001b[0m\u001b[0;34m:\u001b[0m \u001b[0mP\u001b[0m\u001b[0;34m,\u001b[0m\u001b[0;34m\u001b[0m\u001b[0;34m\u001b[0m\u001b[0m\n\u001b[1;32m     15\u001b[0m             \u001b[0;34m'r,b'\u001b[0m\u001b[0;34m:\u001b[0m \u001b[0;34mf\"{r},{b}\"\u001b[0m\u001b[0;34m\u001b[0m\u001b[0;34m\u001b[0m\u001b[0m\n",
            "\u001b[0;32m~/.local/lib/python3.10/site-packages/pandas/core/generic.py\u001b[0m in \u001b[0;36m?\u001b[0;34m(self, name)\u001b[0m\n\u001b[1;32m   6292\u001b[0m             \u001b[0;32mand\u001b[0m \u001b[0mname\u001b[0m \u001b[0;32mnot\u001b[0m \u001b[0;32min\u001b[0m \u001b[0mself\u001b[0m\u001b[0;34m.\u001b[0m\u001b[0m_accessors\u001b[0m\u001b[0;34m\u001b[0m\u001b[0;34m\u001b[0m\u001b[0m\n\u001b[1;32m   6293\u001b[0m             \u001b[0;32mand\u001b[0m \u001b[0mself\u001b[0m\u001b[0;34m.\u001b[0m\u001b[0m_info_axis\u001b[0m\u001b[0;34m.\u001b[0m\u001b[0m_can_hold_identifiers_and_holds_name\u001b[0m\u001b[0;34m(\u001b[0m\u001b[0mname\u001b[0m\u001b[0;34m)\u001b[0m\u001b[0;34m\u001b[0m\u001b[0;34m\u001b[0m\u001b[0m\n\u001b[1;32m   6294\u001b[0m         ):\n\u001b[1;32m   6295\u001b[0m             \u001b[0;32mreturn\u001b[0m \u001b[0mself\u001b[0m\u001b[0;34m[\u001b[0m\u001b[0mname\u001b[0m\u001b[0;34m]\u001b[0m\u001b[0;34m\u001b[0m\u001b[0;34m\u001b[0m\u001b[0m\n\u001b[0;32m-> 6296\u001b[0;31m         \u001b[0;32mreturn\u001b[0m \u001b[0mobject\u001b[0m\u001b[0;34m.\u001b[0m\u001b[0m__getattribute__\u001b[0m\u001b[0;34m(\u001b[0m\u001b[0mself\u001b[0m\u001b[0;34m,\u001b[0m \u001b[0mname\u001b[0m\u001b[0;34m)\u001b[0m\u001b[0;34m\u001b[0m\u001b[0;34m\u001b[0m\u001b[0m\n\u001b[0m",
            "\u001b[0;31mAttributeError\u001b[0m: 'DataFrame' object has no attribute 'append'"
          ]
        }
      ],
      "source": [
        "results = pd.DataFrame({\n",
        "    's': [],\n",
        "    'P': [],\n",
        "    'r,b': []\n",
        "})\n",
        "\n",
        "for s in np.arange(0.01, 1, 0.01):\n",
        "    total = 100\n",
        "    for b in [100, 50, 25, 20, 10, 5, 4, 2, 1]:\n",
        "        r = int(total/b)\n",
        "        P = probability(s, r, b)\n",
        "        results = results.append({\n",
        "            's': s,\n",
        "            'P': P,\n",
        "            'r,b': f\"{r},{b}\"\n",
        "        }, ignore_index=True)"
      ]
    },
    {
      "cell_type": "code",
      "execution_count": 29,
      "metadata": {
        "colab": {
          "base_uri": "https://localhost:8080/",
          "height": 296
        },
        "id": "djtsS0-J88PD",
        "outputId": "51a3a288-1371-4558-9b50-78cbb66dd9cc"
      },
      "outputs": [
        {
          "ename": "NameError",
          "evalue": "name 'results' is not defined",
          "output_type": "error",
          "traceback": [
            "\u001b[0;31m---------------------------------------------------------------------------\u001b[0m",
            "\u001b[0;31mNameError\u001b[0m                                 Traceback (most recent call last)",
            "Cell \u001b[0;32mIn[29], line 1\u001b[0m\n\u001b[0;32m----> 1\u001b[0m sns\u001b[38;5;241m.\u001b[39mlineplot(data\u001b[38;5;241m=\u001b[39m\u001b[43mresults\u001b[49m, x\u001b[38;5;241m=\u001b[39m\u001b[38;5;124m'\u001b[39m\u001b[38;5;124ms\u001b[39m\u001b[38;5;124m'\u001b[39m, y\u001b[38;5;241m=\u001b[39m\u001b[38;5;124m'\u001b[39m\u001b[38;5;124mP\u001b[39m\u001b[38;5;124m'\u001b[39m, hue\u001b[38;5;241m=\u001b[39m\u001b[38;5;124m'\u001b[39m\u001b[38;5;124mr,b\u001b[39m\u001b[38;5;124m'\u001b[39m)\n",
            "\u001b[0;31mNameError\u001b[0m: name 'results' is not defined"
          ]
        }
      ],
      "source": [
        "sns.lineplot(data=results, x='s', y='P', hue='r,b')"
      ]
    }
  ],
  "metadata": {
    "colab": {
      "provenance": []
    },
    "kernelspec": {
      "display_name": "base",
      "language": "python",
      "name": "python3"
    },
    "language_info": {
      "codemirror_mode": {
        "name": "ipython",
        "version": 3
      },
      "file_extension": ".py",
      "mimetype": "text/x-python",
      "name": "python",
      "nbconvert_exporter": "python",
      "pygments_lexer": "ipython3",
      "version": "3.10.13"
    },
    "orig_nbformat": 4,
    "vscode": {
      "interpreter": {
        "hash": "5fe10bf018ef3e697f9035d60bf60847932a12bface18908407fd371fe880db9"
      }
    }
  },
  "nbformat": 4,
  "nbformat_minor": 0
}
